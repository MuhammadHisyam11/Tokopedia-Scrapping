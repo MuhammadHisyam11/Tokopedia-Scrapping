{
 "cells": [
  {
   "cell_type": "code",
   "execution_count": 288,
   "metadata": {},
   "outputs": [
    {
     "name": "stdout",
     "output_type": "stream",
     "text": [
      "Requirement already satisfied: selenium in c:\\users\\lenovo\\appdata\\local\\programs\\python\\python310\\python.exe\\lib\\site-packages (4.25.0)\n",
      "Requirement already satisfied: urllib3<3,>=1.26 in c:\\users\\lenovo\\appdata\\local\\programs\\python\\python310\\python.exe\\lib\\site-packages (from urllib3[socks]<3,>=1.26->selenium) (2.2.3)\n",
      "Requirement already satisfied: trio~=0.17 in c:\\users\\lenovo\\appdata\\local\\programs\\python\\python310\\python.exe\\lib\\site-packages (from selenium) (0.26.2)\n",
      "Requirement already satisfied: trio-websocket~=0.9 in c:\\users\\lenovo\\appdata\\local\\programs\\python\\python310\\python.exe\\lib\\site-packages (from selenium) (0.11.1)\n",
      "Requirement already satisfied: certifi>=2021.10.8 in c:\\users\\lenovo\\appdata\\local\\programs\\python\\python310\\python.exe\\lib\\site-packages (from selenium) (2024.8.30)\n",
      "Requirement already satisfied: typing_extensions~=4.9 in c:\\users\\lenovo\\appdata\\local\\programs\\python\\python310\\python.exe\\lib\\site-packages (from selenium) (4.12.2)\n",
      "Requirement already satisfied: websocket-client~=1.8 in c:\\users\\lenovo\\appdata\\local\\programs\\python\\python310\\python.exe\\lib\\site-packages (from selenium) (1.8.0)\n",
      "Requirement already satisfied: attrs>=23.2.0 in c:\\users\\lenovo\\appdata\\local\\programs\\python\\python310\\python.exe\\lib\\site-packages (from trio~=0.17->selenium) (24.2.0)\n",
      "Requirement already satisfied: sortedcontainers in c:\\users\\lenovo\\appdata\\local\\programs\\python\\python310\\python.exe\\lib\\site-packages (from trio~=0.17->selenium) (2.4.0)\n",
      "Requirement already satisfied: idna in c:\\users\\lenovo\\appdata\\local\\programs\\python\\python310\\python.exe\\lib\\site-packages (from trio~=0.17->selenium) (3.10)\n",
      "Requirement already satisfied: outcome in c:\\users\\lenovo\\appdata\\local\\programs\\python\\python310\\python.exe\\lib\\site-packages (from trio~=0.17->selenium) (1.3.0.post0)\n",
      "Requirement already satisfied: sniffio>=1.3.0 in c:\\users\\lenovo\\appdata\\local\\programs\\python\\python310\\python.exe\\lib\\site-packages (from trio~=0.17->selenium) (1.3.1)\n",
      "Requirement already satisfied: cffi>=1.14 in c:\\users\\lenovo\\appdata\\local\\programs\\python\\python310\\python.exe\\lib\\site-packages (from trio~=0.17->selenium) (1.17.1)\n",
      "Requirement already satisfied: wsproto>=0.14 in c:\\users\\lenovo\\appdata\\local\\programs\\python\\python310\\python.exe\\lib\\site-packages (from trio-websocket~=0.9->selenium) (1.2.0)\n",
      "Requirement already satisfied: pysocks!=1.5.7,<2.0,>=1.5.6 in c:\\users\\lenovo\\appdata\\local\\programs\\python\\python310\\python.exe\\lib\\site-packages (from urllib3[socks]<3,>=1.26->selenium) (1.7.1)\n",
      "Requirement already satisfied: pycparser in c:\\users\\lenovo\\appdata\\local\\programs\\python\\python310\\python.exe\\lib\\site-packages (from cffi>=1.14->trio~=0.17->selenium) (2.22)\n",
      "Requirement already satisfied: h11<1,>=0.9.0 in c:\\users\\lenovo\\appdata\\local\\programs\\python\\python310\\python.exe\\lib\\site-packages (from wsproto>=0.14->trio-websocket~=0.9->selenium) (0.14.0)\n",
      "Requirement already satisfied: bs4 in c:\\users\\lenovo\\appdata\\local\\programs\\python\\python310\\python.exe\\lib\\site-packages (0.0.2)\n",
      "Requirement already satisfied: beautifulsoup4 in c:\\users\\lenovo\\appdata\\local\\programs\\python\\python310\\python.exe\\lib\\site-packages (from bs4) (4.12.3)\n",
      "Requirement already satisfied: soupsieve>1.2 in c:\\users\\lenovo\\appdata\\local\\programs\\python\\python310\\python.exe\\lib\\site-packages (from beautifulsoup4->bs4) (2.6)\n"
     ]
    }
   ],
   "source": [
    "!pip install selenium\n",
    "!pip install bs4"
   ]
  },
  {
   "cell_type": "code",
   "execution_count": 289,
   "metadata": {},
   "outputs": [],
   "source": [
    "import pandas as pd\n",
    "from bs4 import BeautifulSoup\n",
    "from selenium import webdriver\n",
    "from selenium.webdriver.chrome.options import Options\n",
    "from selenium.webdriver.support.ui import WebDriverWait\n",
    "from selenium.webdriver.support import expected_conditions as EC\n",
    "import time\n",
    "from selenium.webdriver.common.by import By"
   ]
  },
  {
   "cell_type": "code",
   "execution_count": 290,
   "metadata": {},
   "outputs": [
    {
     "name": "stderr",
     "output_type": "stream",
     "text": [
      "<>:3: SyntaxWarning: invalid escape sequence '\\c'\n",
      "<>:3: SyntaxWarning: invalid escape sequence '\\c'\n",
      "C:\\Users\\Lenovo\\AppData\\Local\\Temp\\ipykernel_4916\\1561910418.py:3: SyntaxWarning: invalid escape sequence '\\c'\n",
      "  path = 'data\\chrome.exe'\n"
     ]
    }
   ],
   "source": [
    "main_link = 'https://www.tokopedia.com/search?st=&q=handphone&srp_component_id=02.01.00.00&srp_page_id=&srp_page_title=&navsource='\n",
    "\n",
    "path = 'data\\chrome.exe'\n",
    "\n",
    "chrome_options = Options()\n",
    "chrome_options.add_argument('--no-sandbox')\n",
    "chrome_options.add_argument('disable-notifications')\n",
    "chrome_options.add_argument('--disable-infobars')\n",
    "chrome_options.binary_location = path  # Set Chrome binary location\n",
    "\n",
    "driver = webdriver.Chrome(options=chrome_options)\n",
    "time.sleep(10)\n",
    "driver.get(main_link)"
   ]
  },
  {
   "cell_type": "code",
   "execution_count": 291,
   "metadata": {},
   "outputs": [],
   "source": [
    "html = driver.execute_script(\"return document.getElementsByTagName('html')[0].innerHTML\")\n",
    "soup = BeautifulSoup(html, \"html.parser\")"
   ]
  },
  {
   "cell_type": "code",
   "execution_count": 292,
   "metadata": {},
   "outputs": [
    {
     "name": "stdout",
     "output_type": "stream",
     "text": [
      "Total menu ditemukan: 85, akan memproses maksimal 2 menu\n",
      "Mengklik menu 1 dari maksimal 2 menu\n",
      "Nama Produk: Samsung Galaxy S24 FE [8/256] - [Blue, Graphite, Gray] Smartphone AI, AI Phone, Handphone AI, Kamera 50MP, Layar besar, RAM besar, Baterai tahan lama - Blue\n",
      "Harga Produk: Rp9.999.000\n",
      "Nama Toko: Samsung Official Store\n",
      "Terjual: Terjual 40+•Diskusi (4)\n",
      "Mengklik menu 2 dari maksimal 2 menu\n",
      "Nama Produk: Infinix Smart 8 Pro 8/128GB- Up to 16GB Extended RAM - 6.6\" - Timber Black\n",
      "Harga Produk: Rp1.369.000\n",
      "Nama Toko: Infinix Official Store\n",
      "Terjual: Terjual 3 rb+•bintang 4.9 (1.367 rating)•Diskusi (39)\n"
     ]
    }
   ],
   "source": [
    "shop_name, product_name, product_price, sold = [], [], [], []\n",
    "\n",
    "def wait_for_elements(class_name, timeout=10):\n",
    "    try:\n",
    "        elements = WebDriverWait(driver, timeout).until(\n",
    "            EC.presence_of_all_elements_located((By.CLASS_NAME, class_name))\n",
    "        )\n",
    "        return elements\n",
    "    except:\n",
    "        return []\n",
    "\n",
    "def scrape_page():\n",
    "    soup = BeautifulSoup(driver.page_source, 'html.parser')\n",
    "\n",
    "    product_elements = soup.find_all('div', class_='css-1nylpq2')\n",
    "    if not product_elements:\n",
    "        print(\"Nama produk tidak ditemukan.\")\n",
    "    else:\n",
    "        for i in product_elements:\n",
    "            product_name.append(i.text.strip())\n",
    "            print(f\"Nama Produk: {i.text.strip()}\")\n",
    "            \n",
    "    price_elements = soup.find_all('div', class_='price')\n",
    "    if not price_elements:\n",
    "        print(\"Harga produk tidak ditemukan.\")\n",
    "    else:\n",
    "        for i in price_elements:\n",
    "            product_price.append(i.text.strip())\n",
    "            print(f\"Harga Produk: {i.text.strip()}\")\n",
    "\n",
    "    shop_elements = soup.find_all('h2', class_='css-1wdzqxj-unf-heading e1qvo2ff2')\n",
    "    if not shop_elements:\n",
    "        print(\"Nama toko tidak ditemukan.\")\n",
    "    else:\n",
    "        for i in shop_elements:\n",
    "            shop_name.append(i.text.strip())  \n",
    "            print(f\"Nama Toko: {i.text.strip()}\")\n",
    "    \n",
    "    sold_elements = soup.find_all('div', class_='items')\n",
    "    if not sold_elements:\n",
    "        print(\"tidak ditemukan.\")\n",
    "    else:\n",
    "        for i in sold_elements:\n",
    "            sold.append(i.text.strip())\n",
    "            print(f\"Terjual: {i.text.strip()}\")\n",
    "\n",
    "time.sleep(10)\n",
    "menu_elements = wait_for_elements('css-5wh65g')\n",
    "\n",
    "if not menu_elements:\n",
    "    print(\"Menu tidak ditemukan, keluar\")\n",
    "else:\n",
    "    total_elements = len(menu_elements)\n",
    "    max_menu_elements = 2  \n",
    "    print(f\"Total menu ditemukan: {total_elements}, akan memproses maksimal {max_menu_elements} menu\")\n",
    "\n",
    "    for attempt in range(3):\n",
    "        for index in range(min(total_elements, max_menu_elements)):\n",
    "            try:\n",
    "                \n",
    "                menu_elements = wait_for_elements('css-5wh65g')\n",
    "                \n",
    "                print(f\"Mengklik menu {index+1} dari maksimal {max_menu_elements} menu\")\n",
    "                menu_elements[index].click()\n",
    "\n",
    "                time.sleep(10)\n",
    "                scrape_page()\n",
    "                time.sleep(10)\n",
    "\n",
    "                driver.back()\n",
    "                time.sleep(10)\n",
    "\n",
    "                menu_elements = wait_for_elements('css-5wh65g')\n",
    "\n",
    "            except Exception as e:\n",
    "                print(f\"Error saat mengklik elemen {index+1}: {e}\")\n",
    "                break  \n",
    "        else:\n",
    "            break\n",
    "\n",
    "driver.quit()"
   ]
  },
  {
   "cell_type": "code",
   "execution_count": 293,
   "metadata": {},
   "outputs": [],
   "source": [
    "min_length = min(len(product_name), len(product_price), len(shop_name), len(sold))\n",
    "\n",
    "shop_name = shop_name[:min_length]\n",
    "product_name = product_name[:min_length]\n",
    "product_price = product_price[:min_length]\n",
    "sold = sold[:min_length]\n",
    "\n",
    "data = {\n",
    "    'Nama Toko': shop_name,\n",
    "    'Nama Produk': product_name,\n",
    "    'Harga Produk': product_price,\n",
    "    'sold': sold\n",
    "}\n",
    "df = pd.DataFrame(data)\n",
    "df.to_csv('data/hasil_scraping.csv', index=False)"
   ]
  },
  {
   "cell_type": "code",
   "execution_count": 294,
   "metadata": {},
   "outputs": [
    {
     "data": {
      "text/html": [
       "<div>\n",
       "<style scoped>\n",
       "    .dataframe tbody tr th:only-of-type {\n",
       "        vertical-align: middle;\n",
       "    }\n",
       "\n",
       "    .dataframe tbody tr th {\n",
       "        vertical-align: top;\n",
       "    }\n",
       "\n",
       "    .dataframe thead th {\n",
       "        text-align: right;\n",
       "    }\n",
       "</style>\n",
       "<table border=\"1\" class=\"dataframe\">\n",
       "  <thead>\n",
       "    <tr style=\"text-align: right;\">\n",
       "      <th></th>\n",
       "      <th>Nama Toko</th>\n",
       "      <th>Nama Produk</th>\n",
       "      <th>Harga Produk</th>\n",
       "      <th>sold</th>\n",
       "    </tr>\n",
       "  </thead>\n",
       "  <tbody>\n",
       "    <tr>\n",
       "      <th>0</th>\n",
       "      <td>Samsung Official Store</td>\n",
       "      <td>Samsung Galaxy S24 FE [8/256] - [Blue, Graphit...</td>\n",
       "      <td>Rp9.999.000</td>\n",
       "      <td>Terjual 40+•Diskusi (4)</td>\n",
       "    </tr>\n",
       "    <tr>\n",
       "      <th>1</th>\n",
       "      <td>Infinix Official Store</td>\n",
       "      <td>Infinix Smart 8 Pro 8/128GB- Up to 16GB Extend...</td>\n",
       "      <td>Rp1.369.000</td>\n",
       "      <td>Terjual 3 rb+•bintang 4.9 (1.367 rating)•Disku...</td>\n",
       "    </tr>\n",
       "  </tbody>\n",
       "</table>\n",
       "</div>"
      ],
      "text/plain": [
       "                Nama Toko                                        Nama Produk  \\\n",
       "0  Samsung Official Store  Samsung Galaxy S24 FE [8/256] - [Blue, Graphit...   \n",
       "1  Infinix Official Store  Infinix Smart 8 Pro 8/128GB- Up to 16GB Extend...   \n",
       "\n",
       "  Harga Produk                                               sold  \n",
       "0  Rp9.999.000                            Terjual 40+•Diskusi (4)  \n",
       "1  Rp1.369.000  Terjual 3 rb+•bintang 4.9 (1.367 rating)•Disku...  "
      ]
     },
     "execution_count": 294,
     "metadata": {},
     "output_type": "execute_result"
    }
   ],
   "source": [
    "import pandas as pd\n",
    "data = pd.read_csv(\"data/hasil_scraping.csv\")\n",
    "data.head()"
   ]
  }
 ],
 "metadata": {
  "kernelspec": {
   "display_name": "Python 3",
   "language": "python",
   "name": "python3"
  },
  "language_info": {
   "codemirror_mode": {
    "name": "ipython",
    "version": 3
   },
   "file_extension": ".py",
   "mimetype": "text/x-python",
   "name": "python",
   "nbconvert_exporter": "python",
   "pygments_lexer": "ipython3",
   "version": "3.12.6"
  }
 },
 "nbformat": 4,
 "nbformat_minor": 2
}
