{
 "cells": [
  {
   "cell_type": "code",
   "execution_count": 1,
   "metadata": {},
   "outputs": [
    {
     "name": "stdout",
     "output_type": "stream",
     "text": [
      "Requirement already satisfied: pandas in c:\\users\\lenovo\\appdata\\local\\programs\\python\\python310\\python.exe\\lib\\site-packages (2.2.2)\n",
      "Requirement already satisfied: numpy>=1.26.0 in c:\\users\\lenovo\\appdata\\local\\programs\\python\\python310\\python.exe\\lib\\site-packages (from pandas) (2.1.1)\n",
      "Requirement already satisfied: python-dateutil>=2.8.2 in c:\\users\\lenovo\\appdata\\roaming\\python\\python312\\site-packages (from pandas) (2.9.0.post0)\n",
      "Requirement already satisfied: pytz>=2020.1 in c:\\users\\lenovo\\appdata\\local\\programs\\python\\python310\\python.exe\\lib\\site-packages (from pandas) (2024.1)\n",
      "Requirement already satisfied: tzdata>=2022.7 in c:\\users\\lenovo\\appdata\\local\\programs\\python\\python310\\python.exe\\lib\\site-packages (from pandas) (2024.1)\n",
      "Requirement already satisfied: six>=1.5 in c:\\users\\lenovo\\appdata\\roaming\\python\\python312\\site-packages (from python-dateutil>=2.8.2->pandas) (1.16.0)\n"
     ]
    }
   ],
   "source": [
    "!pip install pandas"
   ]
  },
  {
   "cell_type": "code",
   "execution_count": 2,
   "metadata": {},
   "outputs": [
    {
     "data": {
      "text/html": [
       "<div>\n",
       "<style scoped>\n",
       "    .dataframe tbody tr th:only-of-type {\n",
       "        vertical-align: middle;\n",
       "    }\n",
       "\n",
       "    .dataframe tbody tr th {\n",
       "        vertical-align: top;\n",
       "    }\n",
       "\n",
       "    .dataframe thead th {\n",
       "        text-align: right;\n",
       "    }\n",
       "</style>\n",
       "<table border=\"1\" class=\"dataframe\">\n",
       "  <thead>\n",
       "    <tr style=\"text-align: right;\">\n",
       "      <th></th>\n",
       "      <th>shop_name</th>\n",
       "      <th>product_name</th>\n",
       "      <th>product_price</th>\n",
       "      <th>product_sold</th>\n",
       "    </tr>\n",
       "  </thead>\n",
       "  <tbody>\n",
       "    <tr>\n",
       "      <th>0</th>\n",
       "      <td>Samsung Official Store</td>\n",
       "      <td>Offical realme Note 50 HP 4GB+4GB*|64GB 90Hz D...</td>\n",
       "      <td>Rp1.261.000</td>\n",
       "      <td>30+ terjual</td>\n",
       "    </tr>\n",
       "    <tr>\n",
       "      <th>1</th>\n",
       "      <td>Infinix Official Store</td>\n",
       "      <td>Offical realme 12 Pro+ 5G 8+256GB HP | Snapdra...</td>\n",
       "      <td>Rp5.999.000</td>\n",
       "      <td>3rb+ terjual</td>\n",
       "    </tr>\n",
       "    <tr>\n",
       "      <th>2</th>\n",
       "      <td>duniagadgetku</td>\n",
       "      <td>Offical realme Note 50 HP 4GB+128GB 90Hz Vivid...</td>\n",
       "      <td>Rp1.448.000</td>\n",
       "      <td>3 terjual</td>\n",
       "    </tr>\n",
       "    <tr>\n",
       "      <th>3</th>\n",
       "      <td>MHI - Samsung Authorized</td>\n",
       "      <td>Samsung Galaxy S24 FE [8/256] - [Blue, Graphit...</td>\n",
       "      <td>Rp9.999.000</td>\n",
       "      <td>3 terjual</td>\n",
       "    </tr>\n",
       "    <tr>\n",
       "      <th>4</th>\n",
       "      <td>Infinix Official Store</td>\n",
       "      <td>Infinix Smart 8 Pro 8/128GB- Up to 16GB Extend...</td>\n",
       "      <td>Rp1.369.000</td>\n",
       "      <td>250+ terjual</td>\n",
       "    </tr>\n",
       "    <tr>\n",
       "      <th>...</th>\n",
       "      <td>...</td>\n",
       "      <td>...</td>\n",
       "      <td>...</td>\n",
       "      <td>...</td>\n",
       "    </tr>\n",
       "    <tr>\n",
       "      <th>756</th>\n",
       "      <td>GH Shop Indonesia</td>\n",
       "      <td>Infinix Note 40 Pro 8/256 GB Garansi Resmi - n...</td>\n",
       "      <td>Rp18.750.000</td>\n",
       "      <td>100+ terjual</td>\n",
       "    </tr>\n",
       "    <tr>\n",
       "      <th>757</th>\n",
       "      <td>Putra Group</td>\n",
       "      <td>Xiaomi Redmi Note 13 5G 8/256 GB - Garansi Res...</td>\n",
       "      <td>Rp679.000</td>\n",
       "      <td>250+ terjual</td>\n",
       "    </tr>\n",
       "    <tr>\n",
       "      <th>758</th>\n",
       "      <td>Sinar Cemerlang Jaya 88</td>\n",
       "      <td>Samsung Galaxy M15 5G Ram 6/128GB Garansi Resmi</td>\n",
       "      <td>Rp18.049.000</td>\n",
       "      <td>3rb+ terjual</td>\n",
       "    </tr>\n",
       "    <tr>\n",
       "      <th>759</th>\n",
       "      <td>TOPSELL OFFICIAL</td>\n",
       "      <td>VIVO Y100 5G 8/128 8/256 RAM 8 ROM 128 256 GB ...</td>\n",
       "      <td>Rp1.999.000</td>\n",
       "      <td>750+ terjual</td>\n",
       "    </tr>\n",
       "    <tr>\n",
       "      <th>760</th>\n",
       "      <td>Sevvan Cell</td>\n",
       "      <td>Samsung Galaxy A25 5G 8/128 GB Garansi Resmi SEIN</td>\n",
       "      <td>Rp1.689.000</td>\n",
       "      <td>500+ terjual</td>\n",
       "    </tr>\n",
       "  </tbody>\n",
       "</table>\n",
       "<p>761 rows × 4 columns</p>\n",
       "</div>"
      ],
      "text/plain": [
       "                    shop_name  \\\n",
       "0      Samsung Official Store   \n",
       "1      Infinix Official Store   \n",
       "2               duniagadgetku   \n",
       "3    MHI - Samsung Authorized   \n",
       "4      Infinix Official Store   \n",
       "..                        ...   \n",
       "756         GH Shop Indonesia   \n",
       "757               Putra Group   \n",
       "758   Sinar Cemerlang Jaya 88   \n",
       "759          TOPSELL OFFICIAL   \n",
       "760               Sevvan Cell   \n",
       "\n",
       "                                          product_name product_price  \\\n",
       "0    Offical realme Note 50 HP 4GB+4GB*|64GB 90Hz D...   Rp1.261.000   \n",
       "1    Offical realme 12 Pro+ 5G 8+256GB HP | Snapdra...   Rp5.999.000   \n",
       "2    Offical realme Note 50 HP 4GB+128GB 90Hz Vivid...   Rp1.448.000   \n",
       "3    Samsung Galaxy S24 FE [8/256] - [Blue, Graphit...   Rp9.999.000   \n",
       "4    Infinix Smart 8 Pro 8/128GB- Up to 16GB Extend...   Rp1.369.000   \n",
       "..                                                 ...           ...   \n",
       "756  Infinix Note 40 Pro 8/256 GB Garansi Resmi - n...  Rp18.750.000   \n",
       "757  Xiaomi Redmi Note 13 5G 8/256 GB - Garansi Res...     Rp679.000   \n",
       "758    Samsung Galaxy M15 5G Ram 6/128GB Garansi Resmi  Rp18.049.000   \n",
       "759  VIVO Y100 5G 8/128 8/256 RAM 8 ROM 128 256 GB ...   Rp1.999.000   \n",
       "760  Samsung Galaxy A25 5G 8/128 GB Garansi Resmi SEIN   Rp1.689.000   \n",
       "\n",
       "     product_sold  \n",
       "0     30+ terjual  \n",
       "1    3rb+ terjual  \n",
       "2       3 terjual  \n",
       "3       3 terjual  \n",
       "4    250+ terjual  \n",
       "..            ...  \n",
       "756  100+ terjual  \n",
       "757  250+ terjual  \n",
       "758  3rb+ terjual  \n",
       "759  750+ terjual  \n",
       "760  500+ terjual  \n",
       "\n",
       "[761 rows x 4 columns]"
      ]
     },
     "execution_count": 2,
     "metadata": {},
     "output_type": "execute_result"
    }
   ],
   "source": [
    "import pandas as pd\n",
    "data = pd.read_csv(\"data/scrawling_tokped.csv\")\n",
    "data"
   ]
  },
  {
   "cell_type": "code",
   "execution_count": 3,
   "metadata": {},
   "outputs": [
    {
     "name": "stdout",
     "output_type": "stream",
     "text": [
      "<class 'pandas.core.frame.DataFrame'>\n",
      "RangeIndex: 761 entries, 0 to 760\n",
      "Data columns (total 4 columns):\n",
      " #   Column         Non-Null Count  Dtype \n",
      "---  ------         --------------  ----- \n",
      " 0   shop_name      761 non-null    object\n",
      " 1   product_name   761 non-null    object\n",
      " 2   product_price  761 non-null    object\n",
      " 3   product_sold   761 non-null    object\n",
      "dtypes: object(4)\n",
      "memory usage: 23.9+ KB\n"
     ]
    }
   ],
   "source": [
    "data.info()"
   ]
  },
  {
   "cell_type": "code",
   "execution_count": 4,
   "metadata": {},
   "outputs": [
    {
     "data": {
      "text/plain": [
       "shop_name        0\n",
       "product_name     0\n",
       "product_price    0\n",
       "product_sold     0\n",
       "dtype: int64"
      ]
     },
     "execution_count": 4,
     "metadata": {},
     "output_type": "execute_result"
    }
   ],
   "source": [
    "data.isnull().sum()"
   ]
  },
  {
   "cell_type": "code",
   "execution_count": null,
   "metadata": {},
   "outputs": [],
   "source": []
  }
 ],
 "metadata": {
  "kernelspec": {
   "display_name": "Python 3",
   "language": "python",
   "name": "python3"
  },
  "language_info": {
   "codemirror_mode": {
    "name": "ipython",
    "version": 3
   },
   "file_extension": ".py",
   "mimetype": "text/x-python",
   "name": "python",
   "nbconvert_exporter": "python",
   "pygments_lexer": "ipython3",
   "version": "3.12.6"
  }
 },
 "nbformat": 4,
 "nbformat_minor": 2
}
