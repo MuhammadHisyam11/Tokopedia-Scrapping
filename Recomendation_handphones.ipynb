{
 "cells": [
  {
   "cell_type": "code",
   "execution_count": 37,
   "metadata": {},
   "outputs": [
    {
     "name": "stdout",
     "output_type": "stream",
     "text": [
      "Requirement already satisfied: pandas in c:\\users\\lenovo\\appdata\\local\\programs\\python\\python310\\python.exe\\lib\\site-packages (2.2.2)\n",
      "Requirement already satisfied: numpy>=1.26.0 in c:\\users\\lenovo\\appdata\\local\\programs\\python\\python310\\python.exe\\lib\\site-packages (from pandas) (2.1.1)\n",
      "Requirement already satisfied: python-dateutil>=2.8.2 in c:\\users\\lenovo\\appdata\\roaming\\python\\python312\\site-packages (from pandas) (2.9.0.post0)\n",
      "Requirement already satisfied: pytz>=2020.1 in c:\\users\\lenovo\\appdata\\local\\programs\\python\\python310\\python.exe\\lib\\site-packages (from pandas) (2024.1)\n",
      "Requirement already satisfied: tzdata>=2022.7 in c:\\users\\lenovo\\appdata\\local\\programs\\python\\python310\\python.exe\\lib\\site-packages (from pandas) (2024.1)\n",
      "Requirement already satisfied: six>=1.5 in c:\\users\\lenovo\\appdata\\roaming\\python\\python312\\site-packages (from python-dateutil>=2.8.2->pandas) (1.16.0)\n"
     ]
    }
   ],
   "source": [
    "!pip install pandas"
   ]
  },
  {
   "cell_type": "code",
   "execution_count": 38,
   "metadata": {},
   "outputs": [
    {
     "data": {
      "text/html": [
       "<div>\n",
       "<style scoped>\n",
       "    .dataframe tbody tr th:only-of-type {\n",
       "        vertical-align: middle;\n",
       "    }\n",
       "\n",
       "    .dataframe tbody tr th {\n",
       "        vertical-align: top;\n",
       "    }\n",
       "\n",
       "    .dataframe thead th {\n",
       "        text-align: right;\n",
       "    }\n",
       "</style>\n",
       "<table border=\"1\" class=\"dataframe\">\n",
       "  <thead>\n",
       "    <tr style=\"text-align: right;\">\n",
       "      <th></th>\n",
       "      <th>shop_name</th>\n",
       "      <th>product_name</th>\n",
       "      <th>product_price</th>\n",
       "      <th>sold</th>\n",
       "    </tr>\n",
       "  </thead>\n",
       "  <tbody>\n",
       "    <tr>\n",
       "      <th>0</th>\n",
       "      <td>Samsung Official Store</td>\n",
       "      <td>Samsung Galaxy S24 FE [8/256] - [Blue, Graphit...</td>\n",
       "      <td>Rp9.999.000</td>\n",
       "      <td>Terjual 50+•Diskusi (4)</td>\n",
       "    </tr>\n",
       "    <tr>\n",
       "      <th>1</th>\n",
       "      <td>Xiaomi Official Store</td>\n",
       "      <td>XIAOMI OFFICIAL Redmi Note 12 Pro 5G Kamera 50...</td>\n",
       "      <td>Rp3.599.100</td>\n",
       "      <td>Terjual 5 rb+•bintang 4.9 (2.827 rating)•Disku...</td>\n",
       "    </tr>\n",
       "    <tr>\n",
       "      <th>2</th>\n",
       "      <td>Infinix Official Store</td>\n",
       "      <td>Infinix Smart 8 Pro 8/128GB- Up to 16GB Extend...</td>\n",
       "      <td>Rp1.369.000</td>\n",
       "      <td>Terjual 3 rb+•bintang 4.9 (1.376 rating)•Disku...</td>\n",
       "    </tr>\n",
       "    <tr>\n",
       "      <th>3</th>\n",
       "      <td>Samsung Official Store</td>\n",
       "      <td>Samsung Galaxy S24 FE [8/256] - [Blue, Graphit...</td>\n",
       "      <td>Rp9.999.000</td>\n",
       "      <td>Terjual 50+•Diskusi (4)</td>\n",
       "    </tr>\n",
       "    <tr>\n",
       "      <th>4</th>\n",
       "      <td>Infinix Official Store</td>\n",
       "      <td>Infinix Smart 8 Pro 8/128GB- Up to 16GB Extend...</td>\n",
       "      <td>Rp1.369.000</td>\n",
       "      <td>Terjual 3 rb+•bintang 4.9 (1.376 rating)•Disku...</td>\n",
       "    </tr>\n",
       "    <tr>\n",
       "      <th>5</th>\n",
       "      <td>mnn gadget</td>\n",
       "      <td>GOOGLE PIXEL 6 PRO 5G - RAM 12GB INTERNAL 128G...</td>\n",
       "      <td>Rp3.500.000</td>\n",
       "      <td>Terjual 100+•bintang 4.8 (75 rating)•Diskusi (25)</td>\n",
       "    </tr>\n",
       "    <tr>\n",
       "      <th>6</th>\n",
       "      <td>Xiaomi Official Store</td>\n",
       "      <td>Official Xiaomi Redmi 13 (8GB/128GB) | (8GB/25...</td>\n",
       "      <td>Rp1.799.000</td>\n",
       "      <td>Terjual 1 rb+•bintang 5 (792 rating)•Diskusi (43)</td>\n",
       "    </tr>\n",
       "    <tr>\n",
       "      <th>7</th>\n",
       "      <td>Xiaomi Official Store</td>\n",
       "      <td>Official Xiaomi Redmi Note 13 Pro+ 5G | Layar ...</td>\n",
       "      <td>Rp5.899.000</td>\n",
       "      <td>Terjual 1 rb+•bintang 4.9 (862 rating)•Diskusi...</td>\n",
       "    </tr>\n",
       "    <tr>\n",
       "      <th>8</th>\n",
       "      <td>iSmile Official Store</td>\n",
       "      <td>Apple iPhone 15 Garansi Resmi - 128GB 256GB 51...</td>\n",
       "      <td>Rp13.529.000</td>\n",
       "      <td>Terjual 3 rb+•bintang 5 (1.783 rating)•Diskusi...</td>\n",
       "    </tr>\n",
       "  </tbody>\n",
       "</table>\n",
       "</div>"
      ],
      "text/plain": [
       "                shop_name                                       product_name  \\\n",
       "0  Samsung Official Store  Samsung Galaxy S24 FE [8/256] - [Blue, Graphit...   \n",
       "1   Xiaomi Official Store  XIAOMI OFFICIAL Redmi Note 12 Pro 5G Kamera 50...   \n",
       "2  Infinix Official Store  Infinix Smart 8 Pro 8/128GB- Up to 16GB Extend...   \n",
       "3  Samsung Official Store  Samsung Galaxy S24 FE [8/256] - [Blue, Graphit...   \n",
       "4  Infinix Official Store  Infinix Smart 8 Pro 8/128GB- Up to 16GB Extend...   \n",
       "5              mnn gadget  GOOGLE PIXEL 6 PRO 5G - RAM 12GB INTERNAL 128G...   \n",
       "6   Xiaomi Official Store  Official Xiaomi Redmi 13 (8GB/128GB) | (8GB/25...   \n",
       "7   Xiaomi Official Store  Official Xiaomi Redmi Note 13 Pro+ 5G | Layar ...   \n",
       "8   iSmile Official Store  Apple iPhone 15 Garansi Resmi - 128GB 256GB 51...   \n",
       "\n",
       "  product_price                                               sold  \n",
       "0   Rp9.999.000                            Terjual 50+•Diskusi (4)  \n",
       "1   Rp3.599.100  Terjual 5 rb+•bintang 4.9 (2.827 rating)•Disku...  \n",
       "2   Rp1.369.000  Terjual 3 rb+•bintang 4.9 (1.376 rating)•Disku...  \n",
       "3   Rp9.999.000                            Terjual 50+•Diskusi (4)  \n",
       "4   Rp1.369.000  Terjual 3 rb+•bintang 4.9 (1.376 rating)•Disku...  \n",
       "5   Rp3.500.000  Terjual 100+•bintang 4.8 (75 rating)•Diskusi (25)  \n",
       "6   Rp1.799.000  Terjual 1 rb+•bintang 5 (792 rating)•Diskusi (43)  \n",
       "7   Rp5.899.000  Terjual 1 rb+•bintang 4.9 (862 rating)•Diskusi...  \n",
       "8  Rp13.529.000  Terjual 3 rb+•bintang 5 (1.783 rating)•Diskusi...  "
      ]
     },
     "execution_count": 38,
     "metadata": {},
     "output_type": "execute_result"
    }
   ],
   "source": [
    "import pandas as pd\n",
    "data = pd.read_csv(\"data/scraping_results.csv\")\n",
    "data"
   ]
  },
  {
   "cell_type": "code",
   "execution_count": 39,
   "metadata": {},
   "outputs": [
    {
     "name": "stdout",
     "output_type": "stream",
     "text": [
      "<class 'pandas.core.frame.DataFrame'>\n",
      "RangeIndex: 9 entries, 0 to 8\n",
      "Data columns (total 4 columns):\n",
      " #   Column         Non-Null Count  Dtype \n",
      "---  ------         --------------  ----- \n",
      " 0   shop_name      9 non-null      object\n",
      " 1   product_name   9 non-null      object\n",
      " 2   product_price  9 non-null      object\n",
      " 3   sold           9 non-null      object\n",
      "dtypes: object(4)\n",
      "memory usage: 420.0+ bytes\n"
     ]
    }
   ],
   "source": [
    "data.info()"
   ]
  },
  {
   "cell_type": "code",
   "execution_count": 40,
   "metadata": {},
   "outputs": [
    {
     "data": {
      "text/plain": [
       "shop_name        0\n",
       "product_name     0\n",
       "product_price    0\n",
       "sold             0\n",
       "dtype: int64"
      ]
     },
     "execution_count": 40,
     "metadata": {},
     "output_type": "execute_result"
    }
   ],
   "source": [
    "data.isnull().sum()"
   ]
  },
  {
   "cell_type": "code",
   "execution_count": 41,
   "metadata": {},
   "outputs": [
    {
     "data": {
      "text/plain": [
       "np.int64(2)"
      ]
     },
     "execution_count": 41,
     "metadata": {},
     "output_type": "execute_result"
    }
   ],
   "source": [
    "data.duplicated().sum()"
   ]
  },
  {
   "cell_type": "code",
   "execution_count": 42,
   "metadata": {},
   "outputs": [
    {
     "data": {
      "text/html": [
       "<div>\n",
       "<style scoped>\n",
       "    .dataframe tbody tr th:only-of-type {\n",
       "        vertical-align: middle;\n",
       "    }\n",
       "\n",
       "    .dataframe tbody tr th {\n",
       "        vertical-align: top;\n",
       "    }\n",
       "\n",
       "    .dataframe thead th {\n",
       "        text-align: right;\n",
       "    }\n",
       "</style>\n",
       "<table border=\"1\" class=\"dataframe\">\n",
       "  <thead>\n",
       "    <tr style=\"text-align: right;\">\n",
       "      <th></th>\n",
       "      <th>shop_name</th>\n",
       "      <th>product_name</th>\n",
       "      <th>product_price</th>\n",
       "      <th>sold</th>\n",
       "    </tr>\n",
       "  </thead>\n",
       "  <tbody>\n",
       "    <tr>\n",
       "      <th>0</th>\n",
       "      <td>Samsung Official Store</td>\n",
       "      <td>Samsung Galaxy S24 FE [8/256] - [Blue, Graphit...</td>\n",
       "      <td>Rp9.999.000</td>\n",
       "      <td>Terjual 50+•Diskusi (4)</td>\n",
       "    </tr>\n",
       "    <tr>\n",
       "      <th>1</th>\n",
       "      <td>Xiaomi Official Store</td>\n",
       "      <td>XIAOMI OFFICIAL Redmi Note 12 Pro 5G Kamera 50...</td>\n",
       "      <td>Rp3.599.100</td>\n",
       "      <td>Terjual 5 rb+•bintang 4.9 (2.827 rating)•Disku...</td>\n",
       "    </tr>\n",
       "    <tr>\n",
       "      <th>2</th>\n",
       "      <td>Infinix Official Store</td>\n",
       "      <td>Infinix Smart 8 Pro 8/128GB- Up to 16GB Extend...</td>\n",
       "      <td>Rp1.369.000</td>\n",
       "      <td>Terjual 3 rb+•bintang 4.9 (1.376 rating)•Disku...</td>\n",
       "    </tr>\n",
       "    <tr>\n",
       "      <th>5</th>\n",
       "      <td>mnn gadget</td>\n",
       "      <td>GOOGLE PIXEL 6 PRO 5G - RAM 12GB INTERNAL 128G...</td>\n",
       "      <td>Rp3.500.000</td>\n",
       "      <td>Terjual 100+•bintang 4.8 (75 rating)•Diskusi (25)</td>\n",
       "    </tr>\n",
       "    <tr>\n",
       "      <th>6</th>\n",
       "      <td>Xiaomi Official Store</td>\n",
       "      <td>Official Xiaomi Redmi 13 (8GB/128GB) | (8GB/25...</td>\n",
       "      <td>Rp1.799.000</td>\n",
       "      <td>Terjual 1 rb+•bintang 5 (792 rating)•Diskusi (43)</td>\n",
       "    </tr>\n",
       "    <tr>\n",
       "      <th>7</th>\n",
       "      <td>Xiaomi Official Store</td>\n",
       "      <td>Official Xiaomi Redmi Note 13 Pro+ 5G | Layar ...</td>\n",
       "      <td>Rp5.899.000</td>\n",
       "      <td>Terjual 1 rb+•bintang 4.9 (862 rating)•Diskusi...</td>\n",
       "    </tr>\n",
       "    <tr>\n",
       "      <th>8</th>\n",
       "      <td>iSmile Official Store</td>\n",
       "      <td>Apple iPhone 15 Garansi Resmi - 128GB 256GB 51...</td>\n",
       "      <td>Rp13.529.000</td>\n",
       "      <td>Terjual 3 rb+•bintang 5 (1.783 rating)•Diskusi...</td>\n",
       "    </tr>\n",
       "  </tbody>\n",
       "</table>\n",
       "</div>"
      ],
      "text/plain": [
       "                shop_name                                       product_name  \\\n",
       "0  Samsung Official Store  Samsung Galaxy S24 FE [8/256] - [Blue, Graphit...   \n",
       "1   Xiaomi Official Store  XIAOMI OFFICIAL Redmi Note 12 Pro 5G Kamera 50...   \n",
       "2  Infinix Official Store  Infinix Smart 8 Pro 8/128GB- Up to 16GB Extend...   \n",
       "5              mnn gadget  GOOGLE PIXEL 6 PRO 5G - RAM 12GB INTERNAL 128G...   \n",
       "6   Xiaomi Official Store  Official Xiaomi Redmi 13 (8GB/128GB) | (8GB/25...   \n",
       "7   Xiaomi Official Store  Official Xiaomi Redmi Note 13 Pro+ 5G | Layar ...   \n",
       "8   iSmile Official Store  Apple iPhone 15 Garansi Resmi - 128GB 256GB 51...   \n",
       "\n",
       "  product_price                                               sold  \n",
       "0   Rp9.999.000                            Terjual 50+•Diskusi (4)  \n",
       "1   Rp3.599.100  Terjual 5 rb+•bintang 4.9 (2.827 rating)•Disku...  \n",
       "2   Rp1.369.000  Terjual 3 rb+•bintang 4.9 (1.376 rating)•Disku...  \n",
       "5   Rp3.500.000  Terjual 100+•bintang 4.8 (75 rating)•Diskusi (25)  \n",
       "6   Rp1.799.000  Terjual 1 rb+•bintang 5 (792 rating)•Diskusi (43)  \n",
       "7   Rp5.899.000  Terjual 1 rb+•bintang 4.9 (862 rating)•Diskusi...  \n",
       "8  Rp13.529.000  Terjual 3 rb+•bintang 5 (1.783 rating)•Diskusi...  "
      ]
     },
     "execution_count": 42,
     "metadata": {},
     "output_type": "execute_result"
    }
   ],
   "source": [
    "data = data.drop_duplicates()\n",
    "data"
   ]
  }
 ],
 "metadata": {
  "kernelspec": {
   "display_name": "Python 3",
   "language": "python",
   "name": "python3"
  },
  "language_info": {
   "codemirror_mode": {
    "name": "ipython",
    "version": 3
   },
   "file_extension": ".py",
   "mimetype": "text/x-python",
   "name": "python",
   "nbconvert_exporter": "python",
   "pygments_lexer": "ipython3",
   "version": "3.12.6"
  }
 },
 "nbformat": 4,
 "nbformat_minor": 2
}
